{
  "nbformat": 4,
  "nbformat_minor": 0,
  "metadata": {
    "colab": {
      "provenance": [],
      "toc_visible": true,
      "authorship_tag": "ABX9TyPLWw/jmEmmqzoGX22+dyYN",
      "include_colab_link": true
    },
    "kernelspec": {
      "name": "python3",
      "display_name": "Python 3"
    },
    "language_info": {
      "name": "python"
    }
  },
  "cells": [
    {
      "cell_type": "markdown",
      "metadata": {
        "id": "view-in-github",
        "colab_type": "text"
      },
      "source": [
        "<a href=\"https://colab.research.google.com/github/TriDuks/AI/blob/main/Vidu.ipynb\" target=\"_parent\"><img src=\"https://colab.research.google.com/assets/colab-badge.svg\" alt=\"Open In Colab\"/></a>"
      ]
    },
    {
      "cell_type": "code",
      "execution_count": null,
      "metadata": {
        "id": "oozHXJdLWlB3"
      },
      "outputs": [],
      "source": [
        "value1 = input('Nhap vao so thu nhat: ')\n",
        "value2 = input('Nhap vao so thu hai: ')\n",
        "Value1 + value2\n",
        "value1 = int(value1)\n",
        "value2 = int(value2)\n",
        "Value1 + value2\n",
        "\n",
        "with open('text.txt',mode = 'w') as accounts:\n",
        "  accounts.write('20146540 Nguyễn Minh Trí 10\\n')\n",
        "  accounts.write('201465xx Nguyễn Tris 9\\n')\n",
        "  accounts.write('201465xx Nguyễn Minh  8\\n')"
      ]
    },
    {
      "cell_type": "code",
      "source": [
        "value1 = input('Nhap vao so thu nhat: ')\n",
        "value2 = input('Nhap vao so thu hai: ')\n",
        "Value1 + value2\n",
        "value1 = int(value1)\n",
        "value2 = int(value2)\n",
        "x = Value1 + value2\n"
      ],
      "metadata": {
        "id": "JOJx0_b_YkoW"
      },
      "execution_count": null,
      "outputs": []
    },
    {
      "cell_type": "code",
      "source": [
        "#Write to File\n",
        "\n",
        "with open('text.txt', mode = 'w') as account:\n",
        "     print('20146540 Nguyễn Minh Trí', file = account)"
      ],
      "metadata": {
        "id": "eDeynuPzZANu"
      },
      "execution_count": null,
      "outputs": []
    },
    {
      "cell_type": "code",
      "source": [
        "\n",
        "with open('text.txt', mode = 'w') as accounts:\n",
        "     print(f\"{'MSSV':<10}{'Name':<20}{'Score':>2}\")\n",
        "     for record in account:\n",
        "       MSSV,Name,Score = record.split()\n",
        "       print(f\"{'MSSV':<10}{'Name':<20}{'Score':>2}\")"
      ],
      "metadata": {
        "colab": {
          "base_uri": "https://localhost:8080/",
          "height": 252
        },
        "id": "O5HbAaudZ2lo",
        "outputId": "2f6dc45f-e04c-44a2-fed1-f0c41524cb2d"
      },
      "execution_count": null,
      "outputs": [
        {
          "output_type": "stream",
          "name": "stdout",
          "text": [
            "MSSV      Name                Score\n"
          ]
        },
        {
          "output_type": "error",
          "ename": "ValueError",
          "evalue": "ignored",
          "traceback": [
            "\u001b[0;31m---------------------------------------------------------------------------\u001b[0m",
            "\u001b[0;31mValueError\u001b[0m                                Traceback (most recent call last)",
            "\u001b[0;32m<ipython-input-24-7258fce3b536>\u001b[0m in \u001b[0;36m<module>\u001b[0;34m\u001b[0m\n\u001b[1;32m      1\u001b[0m \u001b[0;32mwith\u001b[0m \u001b[0mopen\u001b[0m\u001b[0;34m(\u001b[0m\u001b[0;34m'text.txt'\u001b[0m\u001b[0;34m,\u001b[0m \u001b[0mmode\u001b[0m \u001b[0;34m=\u001b[0m \u001b[0;34m'w'\u001b[0m\u001b[0;34m)\u001b[0m \u001b[0;32mas\u001b[0m \u001b[0maccounts\u001b[0m\u001b[0;34m:\u001b[0m\u001b[0;34m\u001b[0m\u001b[0;34m\u001b[0m\u001b[0m\n\u001b[1;32m      2\u001b[0m      \u001b[0mprint\u001b[0m\u001b[0;34m(\u001b[0m\u001b[0;34mf\"{'MSSV':<10}{'Name':<20}{'Score':>2}\"\u001b[0m\u001b[0;34m)\u001b[0m\u001b[0;34m\u001b[0m\u001b[0;34m\u001b[0m\u001b[0m\n\u001b[0;32m----> 3\u001b[0;31m      \u001b[0;32mfor\u001b[0m \u001b[0mrecord\u001b[0m \u001b[0;32min\u001b[0m \u001b[0maccount\u001b[0m\u001b[0;34m:\u001b[0m\u001b[0;34m\u001b[0m\u001b[0;34m\u001b[0m\u001b[0m\n\u001b[0m\u001b[1;32m      4\u001b[0m        \u001b[0mMSSV\u001b[0m\u001b[0;34m,\u001b[0m\u001b[0mName\u001b[0m\u001b[0;34m,\u001b[0m\u001b[0mScore\u001b[0m \u001b[0;34m=\u001b[0m \u001b[0mrecord\u001b[0m\u001b[0;34m.\u001b[0m\u001b[0msplit\u001b[0m\u001b[0;34m(\u001b[0m\u001b[0;34m)\u001b[0m\u001b[0;34m\u001b[0m\u001b[0;34m\u001b[0m\u001b[0m\n\u001b[1;32m      5\u001b[0m        \u001b[0mprint\u001b[0m\u001b[0;34m(\u001b[0m\u001b[0;34mf\"{'MSSV':<10}{'Name':<20}{'Score':>2}\"\u001b[0m\u001b[0;34m)\u001b[0m\u001b[0;34m\u001b[0m\u001b[0;34m\u001b[0m\u001b[0m\n",
            "\u001b[0;31mValueError\u001b[0m: I/O operation on closed file."
          ]
        }
      ]
    }
  ]
}