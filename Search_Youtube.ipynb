{
  "nbformat": 4,
  "nbformat_minor": 0,
  "metadata": {
    "colab": {
      "provenance": [],
      "mount_file_id": "1bcqkJHGQWxtI3N1KYX7b8Q88Kx9aYezS",
      "authorship_tag": "ABX9TyNuM2nJHaIiOIUCas3l65qb",
      "include_colab_link": true
    },
    "kernelspec": {
      "name": "python3",
      "display_name": "Python 3"
    },
    "language_info": {
      "name": "python"
    }
  },
  "cells": [
    {
      "cell_type": "markdown",
      "metadata": {
        "id": "view-in-github",
        "colab_type": "text"
      },
      "source": [
        "<a href=\"https://colab.research.google.com/github/TriDuks/AI/blob/main/Search_Youtube.ipynb\" target=\"_parent\"><img src=\"https://colab.research.google.com/assets/colab-badge.svg\" alt=\"Open In Colab\"/></a>"
      ]
    },
    {
      "cell_type": "code",
      "execution_count": 10,
      "metadata": {
        "colab": {
          "base_uri": "https://localhost:8080/"
        },
        "id": "cAvgvT5N47Lh",
        "outputId": "884cf25b-ab96-4aa6-8787-0836c13fd550"
      },
      "outputs": [
        {
          "output_type": "stream",
          "name": "stdout",
          "text": [
            "Looking in indexes: https://pypi.org/simple, https://us-python.pkg.dev/colab-wheels/public/simple/\n",
            "Requirement already satisfied: youtube_search in /usr/local/lib/python3.9/dist-packages (2.1.2)\n",
            "Requirement already satisfied: requests in /usr/local/lib/python3.9/dist-packages (from youtube_search) (2.27.1)\n",
            "Requirement already satisfied: urllib3<1.27,>=1.21.1 in /usr/local/lib/python3.9/dist-packages (from requests->youtube_search) (1.26.15)\n",
            "Requirement already satisfied: certifi>=2017.4.17 in /usr/local/lib/python3.9/dist-packages (from requests->youtube_search) (2022.12.7)\n",
            "Requirement already satisfied: idna<4,>=2.5 in /usr/local/lib/python3.9/dist-packages (from requests->youtube_search) (3.4)\n",
            "Requirement already satisfied: charset-normalizer~=2.0.0 in /usr/local/lib/python3.9/dist-packages (from requests->youtube_search) (2.0.12)\n"
          ]
        }
      ],
      "source": [
        "pip install youtube_search"
      ]
    },
    {
      "cell_type": "code",
      "source": [
        "pip install --upgrade google-api-core\n"
      ],
      "metadata": {
        "id": "iOUiFnPD7G49"
      },
      "execution_count": null,
      "outputs": []
    },
    {
      "cell_type": "code",
      "source": [
        "from  youtube_search import YoutubeSearch\n",
        "import webbrowser\n",
        "from openpyxl import Workbook"
      ],
      "metadata": {
        "id": "IRRzyaLL8cdu"
      },
      "execution_count": 22,
      "outputs": []
    },
    {
      "cell_type": "code",
      "source": [
        "mysing = input(\"Nhap ten bai hat: \")  #  tim kiem ten bai hat youtube\n",
        "result = YoutubeSearch(mysing,max_results=10).to_dict() #hien thi 10 ket qua\n",
        "print(result)\n",
        "print(result[0]['url_suffix'])\n",
        "url = 'http://www.youtube.com' + result[0]['url_suffix']\n",
        "print(url)\n",
        "webbrowser.open(url) "
      ],
      "metadata": {
        "colab": {
          "base_uri": "https://localhost:8080/"
        },
        "id": "AyQN4koI5OET",
        "outputId": "a1c636a4-45dd-4431-fb79-3d4046c155e2"
      },
      "execution_count": 29,
      "outputs": [
        {
          "output_type": "stream",
          "name": "stdout",
          "text": [
            "Nhap ten bai hat: isfa\n",
            "[{'id': 'gLh4VicvEwA', 'thumbnails': ['https://i.ytimg.com/vi/gLh4VicvEwA/hq720.jpg?sqp=-oaymwEjCOgCEMoBSFryq4qpAxUIARUAAAAAGAElAADIQj0AgKJDeAE=&rs=AOn4CLCGYDiWML44b9RXarjiFg09QHmgbg', 'https://i.ytimg.com/vi/gLh4VicvEwA/hq720.jpg?sqp=-oaymwEXCNAFEJQDSFryq4qpAwkIARUAAIhCGAE=&rs=AOn4CLD7s4q9yc0MkKWRcwevJ1e8DVkdMg'], 'title': 'Senshin Suzuki 2022 ISFA Cup Final Highlights', 'long_desc': None, 'channel': 'Senshin Suzuki', 'duration': '2:59', 'views': '427 views', 'publish_time': '11 months ago', 'url_suffix': '/watch?v=gLh4VicvEwA&pp=ygUEaXNmYQ%3D%3D'}, {'id': 'PSG_-vp-FWE', 'thumbnails': ['https://i.ytimg.com/vi/PSG_-vp-FWE/hq720.jpg?sqp=-oaymwEjCOgCEMoBSFryq4qpAxUIARUAAAAAGAElAADIQj0AgKJDeAE=&rs=AOn4CLBe-ARRF5c538CWcJ8N9vJDUpuW2w', 'https://i.ytimg.com/vi/PSG_-vp-FWE/hq720.jpg?sqp=-oaymwEXCNAFEJQDSFryq4qpAwkIARUAAIhCGAE=&rs=AOn4CLBzEWKIQ2EktWVCnWuSiy9hcfRvvg'], 'title': 'ISFA Final Millfield Vs. Queen Ethelburga’s', 'long_desc': None, 'channel': 'Tierney Ruhan', 'duration': '7:48', 'views': '4,178 views', 'publish_time': '3 years ago', 'url_suffix': '/watch?v=PSG_-vp-FWE&pp=ygUEaXNmYQ%3D%3D'}, {'id': 'ZaLWQ4oWcB4', 'thumbnails': ['https://i.ytimg.com/vi/ZaLWQ4oWcB4/hqdefault.jpg?sqp=-oaymwEjCOADEI4CSFryq4qpAxUIARUAAAAAGAElAADIQj0AgKJDeAE=&rs=AOn4CLB3mhQ5HzAx_U_puQ_3fUKyZtExRQ'], 'title': 'LUNO ET SES DÉLIRES- MICRO TROTTOIR ISFA APIXE', 'long_desc': None, 'channel': 'Luno et ses Delires', 'duration': '13:47', 'views': '8,890 views', 'publish_time': '3 weeks ago', 'url_suffix': '/watch?v=ZaLWQ4oWcB4&pp=ygUEaXNmYQ%3D%3D'}, {'id': 'hvcsuiJmBR0', 'thumbnails': ['https://i.ytimg.com/vi/hvcsuiJmBR0/hq720.jpg?sqp=-oaymwEjCOgCEMoBSFryq4qpAxUIARUAAAAAGAElAADIQj0AgKJDeAE=&rs=AOn4CLBcBaH3f6p53WASQNYUgupA7o0XYw', 'https://i.ytimg.com/vi/hvcsuiJmBR0/hq720.jpg?sqp=-oaymwEXCNAFEJQDSFryq4qpAwkIARUAAIhCGAE=&rs=AOn4CLAToXsouWdenFYCQTQBGGJbS_wsaA'], 'title': 'ISFA FINAL CONFLICT PART 1', 'long_desc': None, 'channel': 'b1bbox', 'duration': '19:41', 'views': '1,611 views', 'publish_time': '3 years ago', 'url_suffix': '/watch?v=hvcsuiJmBR0&pp=ygUEaXNmYQ%3D%3D'}, {'id': 'XjRK4ga6qAw', 'thumbnails': ['https://i.ytimg.com/vi/XjRK4ga6qAw/hq720.jpg?sqp=-oaymwEjCOgCEMoBSFryq4qpAxUIARUAAAAAGAElAADIQj0AgKJDeAE=&rs=AOn4CLAQsqnjnkyrbkg1NPUsRe7SbEAXfw', 'https://i.ytimg.com/vi/XjRK4ga6qAw/hq720.jpg?sqp=-oaymwEXCNAFEJQDSFryq4qpAwkIARUAAIhCGAE=&rs=AOn4CLCaXHsTm81xQ18tIWjjVI4CUZnwgA'], 'title': 'Hampton School ESFA Final 2019', 'long_desc': None, 'channel': 'Hampton School', 'duration': '3:58', 'views': '7,757 views', 'publish_time': '3 years ago', 'url_suffix': '/watch?v=XjRK4ga6qAw&pp=ygUEaXNmYQ%3D%3D'}, {'id': 'EDhVg5FuBFY', 'thumbnails': ['https://i.ytimg.com/vi/EDhVg5FuBFY/hqdefault.jpg?sqp=-oaymwE9COADEI4CSFryq4qpAy8IARUAAAAAGAElAADIQj0AgKJDeAHwAQH4Af4JgALQBYoCDAgAEAEYciBIKCcwDw==&rs=AOn4CLAr41DaQgQxyl3aVELyxX9bpFg50g'], 'title': 'Entrevistas a ISFA, Almendralia, Santander Agro y Agromillora I Evento Europeo DemoAlmendro2022', 'long_desc': None, 'channel': 'Jornadas Interempresas', 'duration': '16:53', 'views': '62 views', 'publish_time': '9 months ago', 'url_suffix': '/watch?v=EDhVg5FuBFY&pp=ygUEaXNmYQ%3D%3D'}, {'id': 'nZ9QthbN7_4', 'thumbnails': ['https://i.ytimg.com/vi/nZ9QthbN7_4/hq720.jpg?sqp=-oaymwE9COgCEMoBSFryq4qpAy8IARUAAAAAGAElAADIQj0AgKJDeAHwAQH4Af4JgALQBYoCDAgAEAEYXiBlKD0wDw==&rs=AOn4CLB7_638awEB1M2vKmSgv2NEzj9g3g', 'https://i.ytimg.com/vi/nZ9QthbN7_4/hq720.jpg?sqp=-oaymwExCNAFEJQDSFryq4qpAyMIARUAAIhCGAHwAQH4Af4JgALQBYoCDAgAEAEYXiBlKD0wDw==&rs=AOn4CLDlybzkFqbtEt1I2UqXZisiwsqARQ'], 'title': 'isfa u18 v ssfa', 'long_desc': None, 'channel': 'Luke Harrop', 'duration': '42:10', 'views': '125 views', 'publish_time': '1 year ago', 'url_suffix': '/watch?v=nZ9QthbN7_4&pp=ygUEaXNmYQ%3D%3D'}, {'id': 'nCm_NmZoDEc', 'thumbnails': ['https://i.ytimg.com/vi/nCm_NmZoDEc/hq720_2.jpg?sqp=-oaymwE9COgCEMoBSFryq4qpAy8IARUAAAAAGAAlAADIQj0AgKJDeAHwAQH4AbYIgAKAD4oCDAgAEAEYOiBQKHIwDw==&rs=AOn4CLAdzM7S9leDALDTuAID3nYPRpUYLA', 'https://i.ytimg.com/vi/nCm_NmZoDEc/hq720_2.jpg?sqp=-oaymwExCNAFEJQDSFryq4qpAyMIARUAAIhCGADwAQH4AbYIgAKAD4oCDAgAEAEYOiBQKHIwDw==&rs=AOn4CLDEBAdFZDkmRI7N8WED8yWv8lctQg'], 'title': 'Solar registration starts today!!!!￼ #msta #ceja #isfa #feja #solar #millenniumsolarelectric', 'long_desc': None, 'channel': 'Millennium Solar Electric Training Academy (MSETA)', 'duration': '0:31', 'views': 'No views', 'publish_time': '3 hours ago', 'url_suffix': '/shorts/nCm_NmZoDEc'}, {'id': 'TBlXN5586ao', 'thumbnails': ['https://i.ytimg.com/vi/TBlXN5586ao/hqdefault.jpg?sqp=-oaymwEjCOADEI4CSFryq4qpAxUIARUAAAAAGAElAADIQj0AgKJDeAE=&rs=AOn4CLCbyMG88wieflaXRE9Pj15SFjXo7Q'], 'title': \"ISFA @ St George's Park (Ft. Jadon Sancho)\", 'long_desc': None, 'channel': 'Patrick Osborn', 'duration': '8:07', 'views': '20,977 views', 'publish_time': '8 years ago', 'url_suffix': '/watch?v=TBlXN5586ao&pp=ygUEaXNmYQ%3D%3D'}, {'id': 'lyN1HCHFNag', 'thumbnails': ['https://i.ytimg.com/vi/lyN1HCHFNag/hq720.jpg?sqp=-oaymwE9COgCEMoBSFryq4qpAy8IARUAAAAAGAElAADIQj0AgKJDeAHwAQH4Af4JgALQBYoCDAgAEAEYaiBqKGowDw==&rs=AOn4CLDvL0G-4dQVOsOkydoWOMF82Fe43w', 'https://i.ytimg.com/vi/lyN1HCHFNag/hq720.jpg?sqp=-oaymwExCNAFEJQDSFryq4qpAyMIARUAAIhCGAHwAQH4Af4JgALQBYoCDAgAEAEYaiBqKGowDw==&rs=AOn4CLDZajM9jMzeRrlkE9pLqpDLH9bXYQ'], 'title': 'ISFA 2023 - Electrics and Electronics Home Technologies Export Fair 02-05 March 2023', 'long_desc': None, 'channel': 'ISFA TV', 'duration': '3:10', 'views': '376 views', 'publish_time': '6 months ago', 'url_suffix': '/watch?v=lyN1HCHFNag&pp=ygUEaXNmYQ%3D%3D'}]\n"
          ]
        }
      ]
    },
    {
      "cell_type": "code",
      "source": [
        "data = Workbook()\n",
        "sheet = data.active\n",
        "mysong = input('Nhập tên bài hát:')\n",
        "result = YoutubeSearch(mysong,max_results=10).to_dict()\n",
        "for i in range(10):\n",
        "  print(result[i]['title'])\n",
        "  print(result[i]['url_suffix'])\n",
        "  url = 'http://www.youtube.com' + result[i]['url_suffix']\n",
        "  print(url)\n",
        "  sheet['A'+str(i+1)] = i + 1                    #địa chỉ\n",
        "  sheet['B'+str(i+1)] = result[i]['title']       #title\n",
        "  sheet['C'+str(i+1)] = result[i]['url_suffix']  #link\n",
        "  sheet['D'+str(i+1)] = result[i]['views']       #view\n",
        "  sheet['E'+str(i+1)] = result[i]['duration']    #duration\n",
        "  sheet['F'+str(i+1)] = result[i]['publish_time']    #publish_time\n",
        "  sheet['G'+str(i+1)] = result[i]['channel']     #channel\n",
        "data.save('Song.xlsx')"
      ],
      "metadata": {
        "id": "V5ejLnts8nqR"
      },
      "execution_count": null,
      "outputs": []
    },
    {
      "cell_type": "markdown",
      "source": [
        "# **Speech to Text**"
      ],
      "metadata": {
        "id": "jcXIgIpMBn-9"
      }
    },
    {
      "cell_type": "code",
      "source": [
        "pip install SpeechRecognition pydub"
      ],
      "metadata": {
        "id": "KH2KE1i1BU8D"
      },
      "execution_count": null,
      "outputs": []
    },
    {
      "cell_type": "code",
      "source": [
        "file = '/content/drive/MyDrive/AI/AmThanh/Micro/2. English.wav'\n",
        "import speech_recognition as sr \n",
        "r = sr.Recognizer()\n",
        "with sr.AudioFile(file) as source:\n",
        "  audio_data = r.record(source)\n",
        "  text = r.recognize_google(audio_data)\n",
        "  print(text)"
      ],
      "metadata": {
        "colab": {
          "base_uri": "https://localhost:8080/"
        },
        "id": "u4myDBh_B8_O",
        "outputId": "0ab72c15-7f1e-4d01-c780-dd1aba0fd275"
      },
      "execution_count": 49,
      "outputs": [
        {
          "output_type": "stream",
          "name": "stdout",
          "text": [
            "we can always improve technology with humanitarian care we can enhance the security of network by introducing Quantum cryptography we can put restrictions on AI to prevent will galavant teleportation or maybe it's too risky to transport human\n"
          ]
        }
      ]
    },
    {
      "cell_type": "code",
      "source": [
        "with sr.AudioFile(file) as source:\n",
        "  audio1 = r.record(source, duration=4)\n",
        "  audio2 = r.record(source, duration = 10)\n",
        "  audio3 = r.record(source, duration = 10)\n",
        "  print(r.recognize_google(audio1))\n",
        "  print(r.recognize_google(audio2))\n",
        "  print(r.recognize_google(audio3))"
      ],
      "metadata": {
        "colab": {
          "base_uri": "https://localhost:8080/"
        },
        "id": "zcvJtD_TCPcV",
        "outputId": "df89f617-b0dc-4e17-bbb8-506fb2842fb4"
      },
      "execution_count": 45,
      "outputs": [
        {
          "output_type": "stream",
          "name": "stdout",
          "text": [
            "we can always improve technology Wiki\n",
            "we can enhance the security of networks by introducing Quantum cryptography we can put restrictions on ai2\n",
            "teleportation or maybe it is too risky to transport human still relieve a considerable\n"
          ]
        }
      ]
    },
    {
      "cell_type": "code",
      "source": [
        "file = '/content/drive/MyDrive/AI/AmThanh/Micro/ThaiLand/TiengThai.wav'\n",
        "import speech_recognition as sr \n",
        "r = sr.Recognizer()\n",
        "with sr.AudioFile(file) as source:\n",
        "  audio = r.record(source)\n",
        "  text = r.recognize_google(audio, language = 'th-TH')\n",
        "  print(text)\n"
      ],
      "metadata": {
        "colab": {
          "base_uri": "https://localhost:8080/"
        },
        "id": "1VsEsi07FmS7",
        "outputId": "cf234f97-eeeb-4f2b-c46b-ff631b9d3900"
      },
      "execution_count": 63,
      "outputs": [
        {
          "output_type": "stream",
          "name": "stdout",
          "text": [
            "สวัสดีค่ะชื่อแดงนะคะอยู่ที่กรุงเทพฯทำงานเป็นคนขายของทั่วไปแล้วก็มีร้านอยู่ที่แถวสยามอะไรก็จะไปๆมาๆระหว่างบ้านแล้วจะสยามเป็นคนเมืองแท้ๆเลยค่ะแล้วก็เกิดที่นี่โตที่นี่มันก็จะมีไลฟ์สไตล์ที่อยู่ในเมืองหลวงต่างๆมีรถคันนึงแต่ไม่ค่อยได้ใช้เนื่องจากรถติดมากที่รู้อยู่กรุงเทพฯเนี่ยมีรถเยอะเกินไปจนกระทั่งแทบจะไม่มีที่เดินสำหรับคนไม่มีอากาศดีๆเท่าไหร่แต่ก็ไม่ได้เลวร้ายไปทั้งหมดนะคะเพราะว่าที่นี่จะมีของอะไรต่างๆที่แอบซ่อนอยู่ในส่วนที่คนต่างๆอาจจะไม่เห็นชัดๆนะเช่นกันมาทุกคนก็จะไปจตุจักรกันช่วงเสาร์อาทิตย์เราก็จะไป relax กันหาของกินอร่อยๆซื้อเสื้อผ้าที่เป็นของมือสองไปหาของจากกองเสื้อผ้าเก่าๆไปซื้อของกินแปลกๆเช่นอาจจะมีเข้าใจซึ่งทำด้วย\n"
          ]
        }
      ]
    },
    {
      "cell_type": "code",
      "source": [
        "file = '/content/drive/MyDrive/AI/AmThanh/Micro/VietNam/VietNam.wav'\n",
        "import speech_recognition as sr \n",
        "r = sr.Recognizer()\n",
        "with sr.AudioFile(file) as source:\n",
        "  audio = r.record(source)\n",
        "  text = r.recognize_google(audio, language = 'vi-VN')\n",
        "  print(text)\n"
      ],
      "metadata": {
        "colab": {
          "base_uri": "https://localhost:8080/"
        },
        "id": "YUhBgwIaJN80",
        "outputId": "d68b133d-c928-4099-887d-429e90542f28"
      },
      "execution_count": 80,
      "outputs": [
        {
          "output_type": "stream",
          "name": "stdout",
          "text": [
            "người ta nói lịch sử là người thầy của tương lai thế nhưng trong xã hội Việt Nam ngày hôm nay thì người này đang dần mất đi khi thấy quan trọng của mình trước khi tôi chứng minh điều trị thấp không phải do lỗi của học sinh mà là do hệ quả của những tình cảm của nhu cầu của xã hội hãy đến với một số phản diện Trước hết các bạn nói rằng là nỗi đến từ giáo dục và xã hội thế nhưng học sinh vẫn có một phần lỗi khi tôi Xin khẳng định không bao giờ có chuyện này lỗi từ giáo dục và xã hội không bao giờ tồn tại song song với nó có oxy mà chính Hà Nội từ giáo dục và xã hội đen mới tồn tại địa chỉ chính thức học sinh và Nếu như các bạn có cách giáo dục hấp dẫn và thực sự facebook tạo cho học sinh khi tôi sống ở trong cái nhìn đa chiều áp dụng được vào thực tế giống như trong xã hội của Mỹ và các triệu chứng minh của bản thân thì chắc chắn không bao giờ học sinh để xảy ra chuyện 70% tiểu sử dưới trung bình Nếu bạn không làm được điều này thì đến thế hệ mai sau thì điện tử cho xem tiếp tục cấp Vì thế các bạn không tạo ra sự thay đổi nào tả thứ hai các bạn nói rằng biểu dưới 5 là cho học sinh không nắm được kiến thức cơ bản nhưng có một cô giáo đã tôi rất kính trọng rất nhỏ với tôi thế này giá trị căn bản của lịch sử không nằm ở những con số không phụ thuộc vào học sinh nhớ được bao nhiêu cái tên gốc thời gian\n"
          ]
        }
      ]
    },
    {
      "cell_type": "code",
      "source": [
        "pip install gTTS"
      ],
      "metadata": {
        "colab": {
          "base_uri": "https://localhost:8080/"
        },
        "id": "JeLr-L_9Jt7f",
        "outputId": "2d56a567-58d7-4220-e0c4-efb1f169ef4d"
      },
      "execution_count": 91,
      "outputs": [
        {
          "output_type": "stream",
          "name": "stdout",
          "text": [
            "Looking in indexes: https://pypi.org/simple, https://us-python.pkg.dev/colab-wheels/public/simple/\n",
            "Requirement already satisfied: gTTS in /usr/local/lib/python3.9/dist-packages (2.3.1)\n",
            "Requirement already satisfied: requests<3,>=2.27 in /usr/local/lib/python3.9/dist-packages (from gTTS) (2.27.1)\n",
            "Requirement already satisfied: click<8.2,>=7.1 in /usr/local/lib/python3.9/dist-packages (from gTTS) (8.1.3)\n",
            "Requirement already satisfied: urllib3<1.27,>=1.21.1 in /usr/local/lib/python3.9/dist-packages (from requests<3,>=2.27->gTTS) (1.26.15)\n",
            "Requirement already satisfied: certifi>=2017.4.17 in /usr/local/lib/python3.9/dist-packages (from requests<3,>=2.27->gTTS) (2022.12.7)\n",
            "Requirement already satisfied: charset-normalizer~=2.0.0 in /usr/local/lib/python3.9/dist-packages (from requests<3,>=2.27->gTTS) (2.0.12)\n",
            "Requirement already satisfied: idna<4,>=2.5 in /usr/local/lib/python3.9/dist-packages (from requests<3,>=2.27->gTTS) (3.4)\n"
          ]
        }
      ]
    },
    {
      "cell_type": "code",
      "source": [
        "!pip install pyttsx3"
      ],
      "metadata": {
        "colab": {
          "base_uri": "https://localhost:8080/"
        },
        "id": "y2kdaZhfLtto",
        "outputId": "3029f4e8-76fc-4092-9f44-c3c71f010494"
      },
      "execution_count": 76,
      "outputs": [
        {
          "output_type": "stream",
          "name": "stdout",
          "text": [
            "Looking in indexes: https://pypi.org/simple, https://us-python.pkg.dev/colab-wheels/public/simple/\n",
            "Collecting pyttsx3\n",
            "  Downloading pyttsx3-2.90-py3-none-any.whl (39 kB)\n",
            "Installing collected packages: pyttsx3\n",
            "Successfully installed pyttsx3-2.90\n"
          ]
        }
      ]
    },
    {
      "cell_type": "code",
      "source": [
        "pip install playsound"
      ],
      "metadata": {
        "colab": {
          "base_uri": "https://localhost:8080/"
        },
        "id": "K1AdIKdvM_rI",
        "outputId": "f2d90113-8c80-432a-b841-7c84f9c99eca"
      },
      "execution_count": 99,
      "outputs": [
        {
          "output_type": "stream",
          "name": "stdout",
          "text": [
            "Looking in indexes: https://pypi.org/simple, https://us-python.pkg.dev/colab-wheels/public/simple/\n",
            "Collecting playsound\n",
            "  Downloading playsound-1.3.0.tar.gz (7.7 kB)\n",
            "  Preparing metadata (setup.py) ... \u001b[?25l\u001b[?25hdone\n",
            "Building wheels for collected packages: playsound\n",
            "  Building wheel for playsound (setup.py) ... \u001b[?25l\u001b[?25hdone\n",
            "  Created wheel for playsound: filename=playsound-1.3.0-py3-none-any.whl size=7035 sha256=97a00ff9a1e81c6e64763830647dc04b8e44cbc8b21b0ee00af6652e7763dc4f\n",
            "  Stored in directory: /root/.cache/pip/wheels/ba/39/54/c8f7ff9a88a644d3c58b4dec802d90b79a2e0fb2a6b884bf82\n",
            "Successfully built playsound\n",
            "Installing collected packages: playsound\n",
            "Successfully installed playsound-1.3.0\n"
          ]
        }
      ]
    },
    {
      "cell_type": "code",
      "source": [
        "import os\n",
        "from gtts import gTTS\n",
        "from playsound import playsound\n",
        "\n",
        "A = 'aa.docx'\n",
        "\n",
        "speak = gTTS(text = A, lang= 'th',slow = False)\n",
        "speak.save('/content/drive/MyDrive/AI/AmThanh/Micro/VietNam/Voice.mp3')\n",
        "file = ('/content/drive/MyDrive/AI/AmThanh/Micro/VietNam/Voice.mp3')\n",
        "#playsound(file, True)\n",
        "#os.remove('/content/drive/MyDrive/AI/AmThanh/Micro/VietNam/Voice.mp3')  #xoas de khong chong len\n",
        "print('text')"
      ],
      "metadata": {
        "colab": {
          "base_uri": "https://localhost:8080/"
        },
        "id": "TcBbPkyOKAz9",
        "outputId": "1e63733f-f138-42cc-dc5d-3e1cfd79c476"
      },
      "execution_count": 123,
      "outputs": [
        {
          "output_type": "stream",
          "name": "stdout",
          "text": [
            "text\n"
          ]
        }
      ]
    },
    {
      "cell_type": "markdown",
      "source": [
        "# **Translate**"
      ],
      "metadata": {
        "id": "QBEuIiexRTJe"
      }
    },
    {
      "cell_type": "code",
      "source": [
        "pip install googletrans==3.1.0a0"
      ],
      "metadata": {
        "colab": {
          "base_uri": "https://localhost:8080/"
        },
        "id": "zHHEzYTgRZfz",
        "outputId": "0ae766ae-4de7-438c-c286-c94af775c44b"
      },
      "execution_count": 1,
      "outputs": [
        {
          "output_type": "stream",
          "name": "stdout",
          "text": [
            "Looking in indexes: https://pypi.org/simple, https://us-python.pkg.dev/colab-wheels/public/simple/\n",
            "Requirement already satisfied: googletrans==3.1.0a0 in /usr/local/lib/python3.9/dist-packages (3.1.0a0)\n",
            "Requirement already satisfied: httpx==0.13.3 in /usr/local/lib/python3.9/dist-packages (from googletrans==3.1.0a0) (0.13.3)\n",
            "Requirement already satisfied: certifi in /usr/local/lib/python3.9/dist-packages (from httpx==0.13.3->googletrans==3.1.0a0) (2022.12.7)\n",
            "Requirement already satisfied: idna==2.* in /usr/local/lib/python3.9/dist-packages (from httpx==0.13.3->googletrans==3.1.0a0) (2.10)\n",
            "Requirement already satisfied: rfc3986<2,>=1.3 in /usr/local/lib/python3.9/dist-packages (from httpx==0.13.3->googletrans==3.1.0a0) (1.5.0)\n",
            "Requirement already satisfied: hstspreload in /usr/local/lib/python3.9/dist-packages (from httpx==0.13.3->googletrans==3.1.0a0) (2023.1.1)\n",
            "Requirement already satisfied: chardet==3.* in /usr/local/lib/python3.9/dist-packages (from httpx==0.13.3->googletrans==3.1.0a0) (3.0.4)\n",
            "Requirement already satisfied: httpcore==0.9.* in /usr/local/lib/python3.9/dist-packages (from httpx==0.13.3->googletrans==3.1.0a0) (0.9.1)\n",
            "Requirement already satisfied: sniffio in /usr/local/lib/python3.9/dist-packages (from httpx==0.13.3->googletrans==3.1.0a0) (1.3.0)\n",
            "Requirement already satisfied: h2==3.* in /usr/local/lib/python3.9/dist-packages (from httpcore==0.9.*->httpx==0.13.3->googletrans==3.1.0a0) (3.2.0)\n",
            "Requirement already satisfied: h11<0.10,>=0.8 in /usr/local/lib/python3.9/dist-packages (from httpcore==0.9.*->httpx==0.13.3->googletrans==3.1.0a0) (0.9.0)\n",
            "Requirement already satisfied: hpack<4,>=3.0 in /usr/local/lib/python3.9/dist-packages (from h2==3.*->httpcore==0.9.*->httpx==0.13.3->googletrans==3.1.0a0) (3.0.0)\n",
            "Requirement already satisfied: hyperframe<6,>=5.2.0 in /usr/local/lib/python3.9/dist-packages (from h2==3.*->httpcore==0.9.*->httpx==0.13.3->googletrans==3.1.0a0) (5.2.0)\n"
          ]
        }
      ]
    },
    {
      "cell_type": "code",
      "source": [
        "from googletrans import Translator\n",
        "translator = Translator()\n",
        "translation = translator.translate('Này cô bé ơi?', dest = 'ja')\n",
        "print(translation.text)"
      ],
      "metadata": {
        "colab": {
          "base_uri": "https://localhost:8080/"
        },
        "id": "Yt_plou9Rv6V",
        "outputId": "b145a47e-682d-47b5-d1d0-29d8274a93ab"
      },
      "execution_count": 10,
      "outputs": [
        {
          "output_type": "stream",
          "name": "stdout",
          "text": [
            "お嬢さん？\n"
          ]
        }
      ]
    }
  ]
}