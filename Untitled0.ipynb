{
  "cells": [
    {
      "cell_type": "markdown",
      "metadata": {
        "id": "view-in-github",
        "colab_type": "text"
      },
      "source": [
        "<a href=\"https://colab.research.google.com/github/TriDuks/AI/blob/main/Untitled0.ipynb\" target=\"_parent\"><img src=\"https://colab.research.google.com/assets/colab-badge.svg\" alt=\"Open In Colab\"/></a>"
      ]
    },
    {
      "cell_type": "code",
      "execution_count": null,
      "metadata": {
        "id": "1vUaTI1wPFH_"
      },
      "outputs": [],
      "source": [
        "#importing libraries\n",
        "import tensorflow as tf\n",
        "import numpy as np\n",
        "import pandas as pd\n",
        "import matplotlib.pyplot as plt\n",
        "from keras.preprocessing.image import ImageDataGenerator\n",
        "from keras.utils import to_categorical, load_img, img_to_array\n"
      ]
    },
    {
      "cell_type": "code",
      "execution_count": 25,
      "metadata": {
        "colab": {
          "base_uri": "https://localhost:8080/"
        },
        "id": "AFPWYN-1MtfD",
        "outputId": "a8c59baf-59f5-49be-952a-1e37b7273e57"
      },
      "outputs": [
        {
          "output_type": "stream",
          "name": "stdout",
          "text": [
            "Found 623 images belonging to 10 classes.\n"
          ]
        }
      ],
      "source": [
        "#Preprocessing để Training \n",
        "# Load ảnh, chia loại, định lại cỡ ảnh 30x40, rescale ảnh và định dạng ảnh về binary\n",
        "train_datagen = ImageDataGenerator(rescale = 1./255,\n",
        "                                    shear_range = 0.2,\n",
        "                                    zoom_range = 0.2,\n",
        "                                    horizontal_flip = True\n",
        "                                  )\n",
        "train_datagen = ImageDataGenerator(rescale = 1./255)\n",
        "training_set = train_datagen.flow_from_directory('/content/drive/MyDrive/AI/Name_class/Training', \n",
        "                                                 target_size = (30,40), \n",
        "                                                 batch_size = 32, \n",
        "                                                 class_mode = 'categorical')"
      ]
    },
    {
      "cell_type": "code",
      "execution_count": 26,
      "metadata": {
        "colab": {
          "base_uri": "https://localhost:8080/"
        },
        "id": "Mb_QFWwLXFu_",
        "outputId": "af4c3c87-50c8-4518-ab12-81f3c34594c8"
      },
      "outputs": [
        {
          "output_type": "stream",
          "name": "stdout",
          "text": [
            "Found 10 images belonging to 10 classes.\n"
          ]
        }
      ],
      "source": [
        "# Load ảnh, chia loại, định lại cỡ ảnh 30x40, rescale ảnh và định dạng ảnh về binary\n",
        "test_datagen = ImageDataGenerator(rescale = 1./255,\n",
        "                                    shear_range = 0.2,\n",
        "                                    zoom_range = 0.2,\n",
        "                                    horizontal_flip = True\n",
        "                                  )\n",
        "test_set = test_datagen.flow_from_directory('/content/drive/MyDrive/AI/Name_class/Test', \n",
        "                                                \n",
        "                                                 target_size = (30,40), \n",
        "                                                 batch_size = 32, \n",
        "                                                class_mode = 'categorical')"
      ]
    },
    {
      "cell_type": "code",
      "execution_count": null,
      "metadata": {
        "colab": {
          "base_uri": "https://localhost:8080/"
        },
        "id": "EKR64aJaRI4x",
        "outputId": "56d7fe7f-2dce-4207-a1d8-fdb67e2a8411"
      },
      "outputs": [
        {
          "data": {
            "text/plain": [
              "{'CPhi': 0,\n",
              " 'Chi': 1,\n",
              " 'Chuong': 2,\n",
              " 'NHuy': 3,\n",
              " 'Phong': 4,\n",
              " 'Thang': 5,\n",
              " 'Tri': 6,\n",
              " 'Tu': 7,\n",
              " 'Tuan': 8,\n",
              " 'VBinh': 9}"
            ]
          },
          "execution_count": 28,
          "metadata": {},
          "output_type": "execute_result"
        }
      ],
      "source": [
        "training_set.class_indices"
      ]
    },
    {
      "cell_type": "code",
      "execution_count": null,
      "metadata": {
        "colab": {
          "base_uri": "https://localhost:8080/"
        },
        "id": "r3R-j15UXX_B",
        "outputId": "95bac37d-3c2f-4f75-d59d-3000bc82d35c"
      },
      "outputs": [
        {
          "data": {
            "text/plain": [
              "{'CPhi': 0,\n",
              " 'Chi': 1,\n",
              " 'Chuong': 2,\n",
              " 'NHuy': 3,\n",
              " 'Phong': 4,\n",
              " 'Thang': 5,\n",
              " 'Tri': 6,\n",
              " 'Tu': 7,\n",
              " 'Tuan': 8,\n",
              " 'VBinh': 9}"
            ]
          },
          "execution_count": 39,
          "metadata": {},
          "output_type": "execute_result"
        }
      ],
      "source": [
        "test_set.class_indices"
      ]
    },
    {
      "cell_type": "code",
      "source": [],
      "metadata": {
        "id": "BovJqe5NinkQ"
      },
      "execution_count": null,
      "outputs": []
    },
    {
      "cell_type": "code",
      "source": [],
      "metadata": {
        "id": "ObWJpzhXi2tY"
      },
      "execution_count": null,
      "outputs": []
    },
    {
      "cell_type": "code",
      "source": [],
      "metadata": {
        "id": "LefKP9VFjWkI"
      },
      "execution_count": null,
      "outputs": []
    },
    {
      "cell_type": "code",
      "source": [],
      "metadata": {
        "id": "VtvR1B8mi8cE"
      },
      "execution_count": null,
      "outputs": []
    },
    {
      "cell_type": "markdown",
      "metadata": {
        "id": "3eAC5FcBSl5H"
      },
      "source": [
        "# **TẠO MODEL BẰNG CNN**"
      ]
    },
    {
      "cell_type": "code",
      "execution_count": 27,
      "metadata": {
        "id": "U_DZ0J8_TA5s"
      },
      "outputs": [],
      "source": [
        "from keras.preprocessing.image import ImageDataGenerator\n",
        "from keras.models import Sequential\n",
        "from keras.layers import Dense, Flatten, Dropout, Conv2D, MaxPooling2D, Normalization\n",
        "import keras.backend as K\n",
        "from keras.layers import LeakyReLU\n",
        "from keras.callbacks import EarlyStopping\n",
        "from keras.utils import to_categorical\n",
        "from keras.optimizers import Adam\n"
      ]
    },
    {
      "cell_type": "code",
      "execution_count": 28,
      "metadata": {
        "colab": {
          "base_uri": "https://localhost:8080/"
        },
        "id": "D-boDxoWTOiP",
        "outputId": "d3dabab9-1bcd-4087-f3db-b6863f8f6a4c"
      },
      "outputs": [
        {
          "output_type": "stream",
          "name": "stdout",
          "text": [
            "Model: \"sequential_3\"\n",
            "_________________________________________________________________\n",
            " Layer (type)                Output Shape              Param #   \n",
            "=================================================================\n",
            " conv2d_112 (Conv2D)         (None, 30, 40, 32)        896       \n",
            "                                                                 \n",
            " conv2d_113 (Conv2D)         (None, 30, 40, 32)        9248      \n",
            "                                                                 \n",
            " leaky_re_lu_12 (LeakyReLU)  (None, 30, 40, 32)        0         \n",
            "                                                                 \n",
            " max_pooling2d_13 (MaxPoolin  (None, 15, 20, 32)       0         \n",
            " g2D)                                                            \n",
            "                                                                 \n",
            " conv2d_114 (Conv2D)         (None, 15, 20, 64)        18496     \n",
            "                                                                 \n",
            " conv2d_115 (Conv2D)         (None, 15, 20, 64)        36928     \n",
            "                                                                 \n",
            " dropout_3 (Dropout)         (None, 15, 20, 64)        0         \n",
            "                                                                 \n",
            " max_pooling2d_14 (MaxPoolin  (None, 8, 10, 64)        0         \n",
            " g2D)                                                            \n",
            "                                                                 \n",
            " conv2d_116 (Conv2D)         (None, 8, 10, 128)        73856     \n",
            "                                                                 \n",
            " conv2d_117 (Conv2D)         (None, 8, 10, 128)        147584    \n",
            "                                                                 \n",
            " leaky_re_lu_13 (LeakyReLU)  (None, 8, 10, 128)        0         \n",
            "                                                                 \n",
            " max_pooling2d_15 (MaxPoolin  (None, 4, 5, 128)        0         \n",
            " g2D)                                                            \n",
            "                                                                 \n",
            " flatten_3 (Flatten)         (None, 2560)              0         \n",
            "                                                                 \n",
            " dense_9 (Dense)             (None, 128)               327808    \n",
            "                                                                 \n",
            " leaky_re_lu_14 (LeakyReLU)  (None, 128)               0         \n",
            "                                                                 \n",
            " dense_10 (Dense)            (None, 32)                4128      \n",
            "                                                                 \n",
            " leaky_re_lu_15 (LeakyReLU)  (None, 32)                0         \n",
            "                                                                 \n",
            " dense_11 (Dense)            (None, 10)                330       \n",
            "                                                                 \n",
            "=================================================================\n",
            "Total params: 619,274\n",
            "Trainable params: 619,274\n",
            "Non-trainable params: 0\n",
            "_________________________________________________________________\n"
          ]
        }
      ],
      "source": [
        "# Tạo model\n",
        "model = Sequential()\n",
        "#Thêm lớp chuyển đổi\n",
        "model.add(tf.keras.layers.Conv2D(32,(3,3), activation='relu', input_shape=[30,40,3],padding='same')) #3 kênh màu RGB\n",
        "model.add(tf.keras.layers.Conv2D(32,(3,3), activation='relu',padding='same'))\n",
        "model.add(LeakyReLU(alpha=0.1))\n",
        "#Pooling\n",
        "model.add(MaxPooling2D(pool_size=(2,2) , padding = 'same'))\n",
        "#Tích chập lớp thứ 2\n",
        "model.add(Conv2D(64,(3,3), activation = 'relu',padding='same'))\n",
        "model.add(Conv2D(64,(3,3), activation = 'relu',padding='same'))\n",
        "model.add(Dropout( 0.1))\n",
        "model.add(MaxPooling2D(pool_size=(2,2) , padding = 'same'))\n",
        "\n",
        "model.add(Conv2D(128,(3,3), activation = 'relu',padding='same'))\n",
        "model.add(Conv2D(128,(3,3), activation = 'relu',padding='same'))\n",
        "model.add(LeakyReLU(alpha = 0.2))\n",
        "model.add(MaxPooling2D(pool_size=(2,2) , padding = 'same'))\n",
        "#Làm phẳng\n",
        "model.add(Flatten())\n",
        "  # ANN Layer\n",
        "#Connect\n",
        "model.add(Dense(128, activation='relu'))\n",
        "model.add(LeakyReLU(alpha = 0.2))\n",
        "model.add(Dense(32, activation='relu'))\n",
        "model.add(LeakyReLU(alpha = 0.1))\n",
        "\n",
        "#Output\n",
        "model.add(Dense(10, activation='softmax'))\n",
        "model.summary()"
      ]
    },
    {
      "cell_type": "code",
      "execution_count": 29,
      "metadata": {
        "id": "LM0dUBrHV1HR"
      },
      "outputs": [],
      "source": [
        "# Thiết lập thông số\n",
        "from keras.optimizers import Adam\n",
        "model.compile( loss = 'categorical_crossentropy', optimizer=Adam(), metrics = ['accuracy'])\n"
      ]
    },
    {
      "cell_type": "code",
      "execution_count": 30,
      "metadata": {
        "colab": {
          "base_uri": "https://localhost:8080/"
        },
        "id": "Vb6qe55DV4rd",
        "outputId": "e10081fc-cbbb-4e97-c618-4eebed634ecb"
      },
      "outputs": [
        {
          "output_type": "stream",
          "name": "stderr",
          "text": [
            "<ipython-input-30-396911b85743>:4: UserWarning: `Model.fit_generator` is deprecated and will be removed in a future version. Please use `Model.fit`, which supports generators.\n",
            "  a = model.fit_generator( training_set, validation_data=test_set, epochs=80, steps_per_epoch=len(training_set),\n"
          ]
        },
        {
          "output_type": "stream",
          "name": "stdout",
          "text": [
            "Epoch 1/80\n",
            "20/20 [==============================] - 36s 2s/step - loss: 1.9927 - accuracy: 0.2809 - val_loss: 3.4062 - val_accuracy: 0.2000\n",
            "Epoch 2/80\n",
            "20/20 [==============================] - 1s 55ms/step - loss: 0.6959 - accuracy: 0.7721 - val_loss: 8.7851 - val_accuracy: 0.0000e+00\n",
            "Epoch 3/80\n",
            "20/20 [==============================] - 1s 56ms/step - loss: 0.3026 - accuracy: 0.8957 - val_loss: 5.9269 - val_accuracy: 0.3000\n",
            "Epoch 4/80\n",
            "20/20 [==============================] - 33s 2s/step - loss: 0.1375 - accuracy: 0.9695 - val_loss: 5.4411 - val_accuracy: 0.2000\n",
            "Epoch 5/80\n",
            "20/20 [==============================] - 1s 55ms/step - loss: 0.1637 - accuracy: 0.9599 - val_loss: 7.8868 - val_accuracy: 0.1000\n",
            "Epoch 6/80\n",
            "20/20 [==============================] - 1s 56ms/step - loss: 0.0847 - accuracy: 0.9727 - val_loss: 7.4555 - val_accuracy: 0.1000\n",
            "Epoch 7/80\n",
            "20/20 [==============================] - 1s 54ms/step - loss: 0.0272 - accuracy: 0.9920 - val_loss: 11.8619 - val_accuracy: 0.3000\n",
            "Epoch 8/80\n",
            "20/20 [==============================] - 1s 67ms/step - loss: 0.0289 - accuracy: 0.9936 - val_loss: 9.9904 - val_accuracy: 0.2000\n",
            "Epoch 9/80\n",
            "20/20 [==============================] - 1s 65ms/step - loss: 0.0057 - accuracy: 0.9984 - val_loss: 11.4483 - val_accuracy: 0.2000\n",
            "Epoch 10/80\n",
            "20/20 [==============================] - 1s 59ms/step - loss: 0.0019 - accuracy: 1.0000 - val_loss: 12.1927 - val_accuracy: 0.3000\n",
            "Epoch 11/80\n",
            "20/20 [==============================] - 1s 54ms/step - loss: 6.2173e-04 - accuracy: 1.0000 - val_loss: 11.9695 - val_accuracy: 0.2000\n",
            "Epoch 12/80\n",
            "20/20 [==============================] - 1s 56ms/step - loss: 8.4686e-05 - accuracy: 1.0000 - val_loss: 12.2137 - val_accuracy: 0.2000\n",
            "Epoch 13/80\n",
            "20/20 [==============================] - 1s 56ms/step - loss: 7.0608e-05 - accuracy: 1.0000 - val_loss: 14.5326 - val_accuracy: 0.2000\n",
            "Epoch 14/80\n",
            "20/20 [==============================] - 1s 61ms/step - loss: 3.7545e-05 - accuracy: 1.0000 - val_loss: 17.5185 - val_accuracy: 0.2000\n",
            "Epoch 15/80\n",
            "20/20 [==============================] - 1s 56ms/step - loss: 2.6466e-05 - accuracy: 1.0000 - val_loss: 14.4300 - val_accuracy: 0.3000\n",
            "Epoch 16/80\n",
            "20/20 [==============================] - 1s 56ms/step - loss: 2.3043e-05 - accuracy: 1.0000 - val_loss: 13.7244 - val_accuracy: 0.5000\n",
            "Epoch 17/80\n",
            "20/20 [==============================] - 1s 55ms/step - loss: 1.7164e-05 - accuracy: 1.0000 - val_loss: 11.3307 - val_accuracy: 0.2000\n",
            "Epoch 18/80\n",
            "20/20 [==============================] - 1s 69ms/step - loss: 1.5694e-05 - accuracy: 1.0000 - val_loss: 15.1740 - val_accuracy: 0.2000\n",
            "Epoch 19/80\n",
            "20/20 [==============================] - 1s 63ms/step - loss: 1.4111e-05 - accuracy: 1.0000 - val_loss: 13.9692 - val_accuracy: 0.3000\n",
            "Epoch 20/80\n",
            "20/20 [==============================] - 1s 55ms/step - loss: 1.2093e-05 - accuracy: 1.0000 - val_loss: 18.5388 - val_accuracy: 0.2000\n",
            "Epoch 21/80\n",
            "20/20 [==============================] - 1s 56ms/step - loss: 9.8929e-06 - accuracy: 1.0000 - val_loss: 13.8502 - val_accuracy: 0.3000\n",
            "Epoch 22/80\n",
            "20/20 [==============================] - 1s 57ms/step - loss: 8.9609e-06 - accuracy: 1.0000 - val_loss: 17.1528 - val_accuracy: 0.2000\n",
            "Epoch 23/80\n",
            "20/20 [==============================] - 1s 56ms/step - loss: 8.2714e-06 - accuracy: 1.0000 - val_loss: 20.8665 - val_accuracy: 0.1000\n",
            "Epoch 24/80\n",
            "20/20 [==============================] - 1s 56ms/step - loss: 6.6460e-06 - accuracy: 1.0000 - val_loss: 12.9327 - val_accuracy: 0.4000\n",
            "Epoch 25/80\n",
            "20/20 [==============================] - 1s 57ms/step - loss: 5.9935e-06 - accuracy: 1.0000 - val_loss: 19.3570 - val_accuracy: 0.3000\n",
            "Epoch 26/80\n",
            "20/20 [==============================] - 1s 56ms/step - loss: 5.5084e-06 - accuracy: 1.0000 - val_loss: 14.8035 - val_accuracy: 0.2000\n",
            "Epoch 27/80\n",
            "20/20 [==============================] - 1s 58ms/step - loss: 4.6748e-06 - accuracy: 1.0000 - val_loss: 14.1827 - val_accuracy: 0.2000\n",
            "Epoch 28/80\n",
            "20/20 [==============================] - 1s 62ms/step - loss: 4.5593e-06 - accuracy: 1.0000 - val_loss: 17.8700 - val_accuracy: 0.1000\n",
            "Epoch 29/80\n",
            "20/20 [==============================] - 1s 55ms/step - loss: 4.2986e-06 - accuracy: 1.0000 - val_loss: 18.8556 - val_accuracy: 0.3000\n",
            "Epoch 30/80\n",
            "20/20 [==============================] - 1s 55ms/step - loss: 4.5598e-06 - accuracy: 1.0000 - val_loss: 15.8967 - val_accuracy: 0.1000\n",
            "Epoch 31/80\n",
            "20/20 [==============================] - 1s 54ms/step - loss: 3.5169e-06 - accuracy: 1.0000 - val_loss: 20.7880 - val_accuracy: 0.2000\n",
            "Epoch 32/80\n",
            "20/20 [==============================] - 1s 55ms/step - loss: 3.1537e-06 - accuracy: 1.0000 - val_loss: 14.3668 - val_accuracy: 0.4000\n",
            "Epoch 33/80\n",
            "20/20 [==============================] - 1s 54ms/step - loss: 3.0410e-06 - accuracy: 1.0000 - val_loss: 17.1342 - val_accuracy: 0.3000\n",
            "Epoch 34/80\n",
            "20/20 [==============================] - 1s 55ms/step - loss: 2.8985e-06 - accuracy: 1.0000 - val_loss: 14.7177 - val_accuracy: 0.3000\n",
            "Epoch 35/80\n",
            "20/20 [==============================] - 1s 55ms/step - loss: 2.5263e-06 - accuracy: 1.0000 - val_loss: 12.0821 - val_accuracy: 0.4000\n",
            "Epoch 36/80\n",
            "20/20 [==============================] - 1s 55ms/step - loss: 2.7836e-06 - accuracy: 1.0000 - val_loss: 17.9659 - val_accuracy: 0.2000\n",
            "Epoch 37/80\n",
            "20/20 [==============================] - 1s 64ms/step - loss: 2.3451e-06 - accuracy: 1.0000 - val_loss: 17.1278 - val_accuracy: 0.3000\n",
            "Epoch 38/80\n",
            "20/20 [==============================] - 1s 61ms/step - loss: 2.2481e-06 - accuracy: 1.0000 - val_loss: 15.5740 - val_accuracy: 0.3000\n",
            "Epoch 39/80\n",
            "20/20 [==============================] - 1s 55ms/step - loss: 2.0438e-06 - accuracy: 1.0000 - val_loss: 15.3806 - val_accuracy: 0.3000\n",
            "Epoch 40/80\n",
            "20/20 [==============================] - 1s 56ms/step - loss: 1.9584e-06 - accuracy: 1.0000 - val_loss: 16.8471 - val_accuracy: 0.3000\n",
            "Epoch 41/80\n",
            "20/20 [==============================] - 1s 56ms/step - loss: 1.7644e-06 - accuracy: 1.0000 - val_loss: 19.5224 - val_accuracy: 0.3000\n",
            "Epoch 42/80\n",
            "20/20 [==============================] - 1s 55ms/step - loss: 1.8803e-06 - accuracy: 1.0000 - val_loss: 22.1620 - val_accuracy: 0.2000\n",
            "Epoch 43/80\n",
            "20/20 [==============================] - 1s 56ms/step - loss: 1.6641e-06 - accuracy: 1.0000 - val_loss: 18.4997 - val_accuracy: 0.3000\n",
            "Epoch 44/80\n",
            "20/20 [==============================] - 1s 55ms/step - loss: 1.5369e-06 - accuracy: 1.0000 - val_loss: 18.8741 - val_accuracy: 0.2000\n",
            "Epoch 45/80\n",
            "20/20 [==============================] - 1s 56ms/step - loss: 1.6442e-06 - accuracy: 1.0000 - val_loss: 15.5724 - val_accuracy: 0.3000\n",
            "Epoch 46/80\n",
            "20/20 [==============================] - 1s 55ms/step - loss: 1.3651e-06 - accuracy: 1.0000 - val_loss: 13.4620 - val_accuracy: 0.2000\n",
            "Epoch 47/80\n",
            "20/20 [==============================] - 1s 61ms/step - loss: 1.3134e-06 - accuracy: 1.0000 - val_loss: 20.5492 - val_accuracy: 0.1000\n",
            "Epoch 48/80\n",
            "20/20 [==============================] - 1s 61ms/step - loss: 1.2623e-06 - accuracy: 1.0000 - val_loss: 17.3408 - val_accuracy: 0.2000\n",
            "Epoch 49/80\n",
            "20/20 [==============================] - 1s 66ms/step - loss: 1.2510e-06 - accuracy: 1.0000 - val_loss: 17.1302 - val_accuracy: 0.3000\n",
            "Epoch 50/80\n",
            "20/20 [==============================] - 1s 57ms/step - loss: 1.1377e-06 - accuracy: 1.0000 - val_loss: 21.3234 - val_accuracy: 0.2000\n",
            "Epoch 51/80\n",
            "20/20 [==============================] - 1s 58ms/step - loss: 1.0675e-06 - accuracy: 1.0000 - val_loss: 19.8208 - val_accuracy: 0.3000\n",
            "Epoch 52/80\n",
            "20/20 [==============================] - 1s 56ms/step - loss: 1.1992e-06 - accuracy: 1.0000 - val_loss: 18.9695 - val_accuracy: 0.1000\n",
            "Epoch 53/80\n",
            "20/20 [==============================] - 1s 60ms/step - loss: 1.0382e-06 - accuracy: 1.0000 - val_loss: 22.9817 - val_accuracy: 0.2000\n",
            "Epoch 54/80\n",
            "20/20 [==============================] - 1s 56ms/step - loss: 1.0377e-06 - accuracy: 1.0000 - val_loss: 20.9119 - val_accuracy: 0.3000\n",
            "Epoch 55/80\n",
            "20/20 [==============================] - 1s 55ms/step - loss: 9.2382e-07 - accuracy: 1.0000 - val_loss: 15.9368 - val_accuracy: 0.4000\n",
            "Epoch 56/80\n",
            "20/20 [==============================] - 1s 57ms/step - loss: 9.5903e-07 - accuracy: 1.0000 - val_loss: 21.7212 - val_accuracy: 0.2000\n",
            "Epoch 57/80\n",
            "20/20 [==============================] - 1s 55ms/step - loss: 8.4498e-07 - accuracy: 1.0000 - val_loss: 17.1967 - val_accuracy: 0.3000\n",
            "Epoch 58/80\n",
            "20/20 [==============================] - 1s 61ms/step - loss: 7.7667e-07 - accuracy: 1.0000 - val_loss: 19.5578 - val_accuracy: 0.2000\n",
            "Epoch 59/80\n",
            "20/20 [==============================] - 1s 63ms/step - loss: 9.0717e-07 - accuracy: 1.0000 - val_loss: 21.0897 - val_accuracy: 0.3000\n",
            "Epoch 60/80\n",
            "20/20 [==============================] - 1s 66ms/step - loss: 7.4644e-07 - accuracy: 1.0000 - val_loss: 18.0481 - val_accuracy: 0.2000\n",
            "Epoch 61/80\n",
            "20/20 [==============================] - 1s 63ms/step - loss: 7.4740e-07 - accuracy: 1.0000 - val_loss: 18.5039 - val_accuracy: 0.2000\n",
            "Epoch 62/80\n",
            "20/20 [==============================] - 1s 56ms/step - loss: 7.6864e-07 - accuracy: 1.0000 - val_loss: 21.9351 - val_accuracy: 0.2000\n",
            "Epoch 63/80\n",
            "20/20 [==============================] - 1s 54ms/step - loss: 7.2080e-07 - accuracy: 1.0000 - val_loss: 24.3289 - val_accuracy: 0.1000\n",
            "Epoch 64/80\n",
            "20/20 [==============================] - 1s 55ms/step - loss: 6.5976e-07 - accuracy: 1.0000 - val_loss: 21.0894 - val_accuracy: 0.2000\n",
            "Epoch 65/80\n",
            "20/20 [==============================] - 1s 57ms/step - loss: 6.6742e-07 - accuracy: 1.0000 - val_loss: 20.8235 - val_accuracy: 0.2000\n",
            "Epoch 66/80\n",
            "20/20 [==============================] - 1s 58ms/step - loss: 6.5230e-07 - accuracy: 1.0000 - val_loss: 19.1796 - val_accuracy: 0.3000\n",
            "Epoch 67/80\n",
            "20/20 [==============================] - 1s 60ms/step - loss: 6.4101e-07 - accuracy: 1.0000 - val_loss: 23.3610 - val_accuracy: 0.1000\n",
            "Epoch 68/80\n",
            "20/20 [==============================] - 1s 64ms/step - loss: 5.9681e-07 - accuracy: 1.0000 - val_loss: 21.2923 - val_accuracy: 0.2000\n",
            "Epoch 69/80\n",
            "20/20 [==============================] - 1s 68ms/step - loss: 5.8284e-07 - accuracy: 1.0000 - val_loss: 11.1180 - val_accuracy: 0.3000\n",
            "Epoch 70/80\n",
            "20/20 [==============================] - 1s 63ms/step - loss: 5.6332e-07 - accuracy: 1.0000 - val_loss: 23.8182 - val_accuracy: 0.2000\n",
            "Epoch 71/80\n",
            "20/20 [==============================] - 1s 62ms/step - loss: 5.0630e-07 - accuracy: 1.0000 - val_loss: 14.1636 - val_accuracy: 0.4000\n",
            "Epoch 72/80\n",
            "20/20 [==============================] - 1s 56ms/step - loss: 5.0477e-07 - accuracy: 1.0000 - val_loss: 18.8717 - val_accuracy: 0.2000\n",
            "Epoch 73/80\n",
            "20/20 [==============================] - 1s 56ms/step - loss: 5.3673e-07 - accuracy: 1.0000 - val_loss: 19.4700 - val_accuracy: 0.3000\n",
            "Epoch 74/80\n",
            "20/20 [==============================] - 1s 56ms/step - loss: 4.5330e-07 - accuracy: 1.0000 - val_loss: 22.8435 - val_accuracy: 0.2000\n",
            "Epoch 75/80\n",
            "20/20 [==============================] - 1s 56ms/step - loss: 4.4775e-07 - accuracy: 1.0000 - val_loss: 20.9057 - val_accuracy: 0.3000\n",
            "Epoch 76/80\n",
            "20/20 [==============================] - 1s 56ms/step - loss: 4.4622e-07 - accuracy: 1.0000 - val_loss: 18.2959 - val_accuracy: 0.2000\n",
            "Epoch 77/80\n",
            "20/20 [==============================] - 1s 57ms/step - loss: 4.4316e-07 - accuracy: 1.0000 - val_loss: 22.7075 - val_accuracy: 0.2000\n",
            "Epoch 78/80\n",
            "20/20 [==============================] - 1s 57ms/step - loss: 4.3895e-07 - accuracy: 1.0000 - val_loss: 22.2772 - val_accuracy: 0.3000\n",
            "Epoch 79/80\n",
            "20/20 [==============================] - 1s 55ms/step - loss: 4.3417e-07 - accuracy: 1.0000 - val_loss: 16.9260 - val_accuracy: 0.3000\n",
            "Epoch 80/80\n",
            "20/20 [==============================] - 1s 61ms/step - loss: 3.9896e-07 - accuracy: 1.0000 - val_loss: 17.7165 - val_accuracy: 0.2000\n"
          ]
        }
      ],
      "source": [
        "# Huấn luyện\n",
        "# fit the model\n",
        "# Run the cell. It will take some time to execute\n",
        "a = model.fit_generator( training_set, validation_data=test_set, epochs=80, steps_per_epoch=len(training_set), \n",
        "                        validation_steps=len(test_set)\n",
        ")"
      ]
    },
    {
      "cell_type": "code",
      "execution_count": 31,
      "metadata": {
        "colab": {
          "base_uri": "https://localhost:8080/"
        },
        "id": "5aojTTY4cV-l",
        "outputId": "123e7790-1ae6-4778-e960-cac1bc332044"
      },
      "outputs": [
        {
          "output_type": "stream",
          "name": "stdout",
          "text": [
            "1/1 [==============================] - 0s 57ms/step - loss: 18.7078 - accuracy: 0.3000\n"
          ]
        },
        {
          "output_type": "execute_result",
          "data": {
            "text/plain": [
              "[18.707836151123047, 0.30000001192092896]"
            ]
          },
          "metadata": {},
          "execution_count": 31
        }
      ],
      "source": [
        "model.evaluate(test_set)"
      ]
    },
    {
      "cell_type": "code",
      "execution_count": null,
      "metadata": {
        "colab": {
          "base_uri": "https://localhost:8080/"
        },
        "id": "rsgLCwAWqdjE",
        "outputId": "037c0e8f-c5e7-423a-ad8b-6b42415813e4"
      },
      "outputs": [
        {
          "output_type": "stream",
          "name": "stderr",
          "text": [
            "<ipython-input-135-467eccc537b7>:1: UserWarning: `Model.predict_generator` is deprecated and will be removed in a future version. Please use `Model.predict`, which supports generators.\n",
            "  y_pred = model.predict_generator(test_set)\n"
          ]
        },
        {
          "output_type": "execute_result",
          "data": {
            "text/plain": [
              "array([[False, False, False,  True, False, False, False, False, False,\n",
              "        False],\n",
              "       [False, False, False, False, False, False, False, False,  True,\n",
              "        False],\n",
              "       [ True, False, False, False, False, False, False, False, False,\n",
              "        False],\n",
              "       [False, False, False, False,  True, False, False, False, False,\n",
              "        False],\n",
              "       [False, False, False, False, False, False,  True, False, False,\n",
              "        False],\n",
              "       [False,  True, False, False, False, False, False, False, False,\n",
              "        False],\n",
              "       [False, False,  True, False, False, False, False, False, False,\n",
              "        False],\n",
              "       [False, False, False, False, False, False, False,  True, False,\n",
              "        False],\n",
              "       [False, False, False, False, False,  True, False, False, False,\n",
              "        False],\n",
              "       [False, False, False, False, False, False, False, False, False,\n",
              "         True]])"
            ]
          },
          "metadata": {},
          "execution_count": 135
        }
      ],
      "source": [
        "y_pred = model.predict_generator(test_set)\n",
        "y_pred_class = y_pred > 0.5\n",
        "y_pred_class"
      ]
    },
    {
      "cell_type": "code",
      "execution_count": null,
      "metadata": {
        "colab": {
          "base_uri": "https://localhost:8080/"
        },
        "id": "v46Pa27ALDM2",
        "outputId": "62ef394d-8047-4825-df3b-bcd371a07515"
      },
      "outputs": [
        {
          "data": {
            "text/plain": [
              "{'CPhi': 0,\n",
              " 'Chi': 1,\n",
              " 'Chuong': 2,\n",
              " 'NHuy': 3,\n",
              " 'Phong': 4,\n",
              " 'Thang': 5,\n",
              " 'Tri': 6,\n",
              " 'Tu': 7,\n",
              " 'Tuan': 8,\n",
              " 'VBinh': 9}"
            ]
          },
          "execution_count": 22,
          "metadata": {},
          "output_type": "execute_result"
        }
      ],
      "source": [
        "training_set.class_indices"
      ]
    },
    {
      "cell_type": "code",
      "execution_count": 32,
      "metadata": {
        "colab": {
          "base_uri": "https://localhost:8080/",
          "height": 860
        },
        "id": "GSF3LTLHcfiU",
        "outputId": "e0dd3e1b-08a3-408e-ed93-bbd6682e9113"
      },
      "outputs": [
        {
          "output_type": "display_data",
          "data": {
            "text/plain": [
              "<Figure size 640x480 with 1 Axes>"
            ],
            "image/png": "[encoded data removed]"
          },
          "metadata": {}
        },
        {
          "output_type": "display_data",
          "data": {
            "text/plain": [
              "<Figure size 640x480 with 1 Axes>"
            ],
            "image/png": "[encoded data removed]"
          },
          "metadata": {}
        },
        {
          "output_type": "display_data",
          "data": {
            "text/plain": [
              "<Figure size 640x480 with 0 Axes>"
            ]
          },
          "metadata": {}
        }
      ],
      "source": [
        "import matplotlib.pyplot as plt\n",
        "# plot the loss\n",
        "plt.plot(a.history['loss'], label='train loss')\n",
        "plt.plot(a.history['val_loss'], label='val loss')\n",
        "plt.legend()\n",
        "plt.show()\n",
        "plt.savefig('LossVal_loss')\n",
        "\n",
        "# plot the accuracy\n",
        "plt.plot(a.history['accuracy'], label='train acc')\n",
        "plt.plot(a.history['val_accuracy'], label='val acc')\n",
        "plt.legend()\n",
        "plt.show()\n",
        "plt.savefig('AccVal_acc')"
      ]
    },
    {
      "cell_type": "code",
      "execution_count": null,
      "metadata": {
        "id": "PO1-BL5MmKqV"
      },
      "outputs": [],
      "source": [
        "# Lưu a h5 file\n",
        "from tensorflow.keras.models import load_model\n",
        "\n",
        "model.save('/content/drive/MyDrive/AI/Name_class/model_inception.h5')"
      ]
    },
    {
      "cell_type": "code",
      "execution_count": null,
      "metadata": {
        "colab": {
          "base_uri": "https://localhost:8080/"
        },
        "id": "UdwB1grCsBI1",
        "outputId": "4b15e4e5-82f6-4087-aa11-2980e60e29f1"
      },
      "outputs": [
        {
          "output_type": "execute_result",
          "data": {
            "text/plain": [
              "<keras.engine.functional.Functional at 0x7fcdce55f610>"
            ]
          },
          "metadata": {},
          "execution_count": 203
        }
      ],
      "source": [
        "\n",
        "from tensorflow.keras.preprocessing import image\n",
        "model=load_model('/content/drive/MyDrive/AI/Name_class/model_inception.h5')\n",
        "model"
      ]
    },
    {
      "cell_type": "code",
      "source": [
        "import os\n",
        "os.chdir('/content/drive/MyDrive/AI/Name_class/Valid')"
      ],
      "metadata": {
        "id": "ypWbT-EgRfsf"
      },
      "execution_count": null,
      "outputs": []
    },
    {
      "cell_type": "code",
      "source": [
        "!ls"
      ],
      "metadata": {
        "id": "kIeT1VZNSNpt"
      },
      "execution_count": null,
      "outputs": []
    },
    {
      "cell_type": "markdown",
      "source": [
        "# **CHẠY THỬ NGHIỆM**"
      ],
      "metadata": {
        "id": "uBYQSYqLZbbJ"
      }
    },
    {
      "cell_type": "code",
      "source": [
        "import matplotlib.pyplot as plt\n",
        "from keras.utils import to_categorical, load_img, img_to_array\n",
        "img_data = load_img('/content/drive/MyDrive/AI/Name_class/Valid/Anh9.jpg')\n",
        "img_data = img_to_array(img_data)\n",
        "plt.imshow(img_data/255)"
      ],
      "metadata": {
        "colab": {
          "base_uri": "https://localhost:8080/",
          "height": 448
        },
        "id": "FgokRbVXZSO4",
        "outputId": "6790fa28-f8a4-46a4-d2c2-4578fb38f303"
      },
      "execution_count": 35,
      "outputs": [
        {
          "output_type": "execute_result",
          "data": {
            "text/plain": [
              "<matplotlib.image.AxesImage at 0x7ff091bfa340>"
            ]
          },
          "metadata": {},
          "execution_count": 35
        },
        {
          "output_type": "display_data",
          "data": {
            "text/plain": [
              "<Figure size 640x480 with 1 Axes>"
            ],
            "image/png": "[encoded data removed]"
          },
          "metadata": {}
        }
      ]
    },
    {
      "cell_type": "code",
      "execution_count": 34,
      "metadata": {
        "colab": {
          "base_uri": "https://localhost:8080/",
          "height": 1000
        },
        "id": "q3GD_5ecnNsb",
        "outputId": "1af3f344-ecc3-4deb-da5c-cba7dd5df14c"
      },
      "outputs": [
        {
          "output_type": "stream",
          "name": "stdout",
          "text": [
            "Chọn image : AnhME\n",
            "1/1 [==============================] - 0s 352ms/step\n",
            "[[0. 0. 0. 0. 0. 0. 1. 0. 0. 0.]]\n",
            "Tri\n",
            "Chọn image : Anh1\n",
            "1/1 [==============================] - 0s 19ms/step\n",
            "[[1. 0. 0. 0. 0. 0. 0. 0. 0. 0.]]\n",
            "CPhi\n",
            "Chọn image : Anh8\n",
            "1/1 [==============================] - 0s 21ms/step\n",
            "[[0. 0. 1. 0. 0. 0. 0. 0. 0. 0.]]\n",
            "Chuong\n",
            "Chọn image : Anh9\n",
            "1/1 [==============================] - 0s 18ms/step\n",
            "[[0. 0. 0. 0. 0. 0. 0. 0. 1. 0.]]\n",
            "Tuan\n"
          ]
        },
        {
          "output_type": "error",
          "ename": "KeyboardInterrupt",
          "evalue": "ignored",
          "traceback": [
            "\u001b[0;31m---------------------------------------------------------------------------\u001b[0m",
            "\u001b[0;31mKeyboardInterrupt\u001b[0m                         Traceback (most recent call last)",
            "\u001b[0;32m<ipython-input-34-bfea56d7021c>\u001b[0m in \u001b[0;36m<cell line: 4>\u001b[0;34m()\u001b[0m\n\u001b[1;32m      2\u001b[0m \u001b[0;32mfrom\u001b[0m \u001b[0mkeras\u001b[0m\u001b[0;34m.\u001b[0m\u001b[0mpreprocessing\u001b[0m \u001b[0;32mimport\u001b[0m \u001b[0mimage\u001b[0m\u001b[0;34m\u001b[0m\u001b[0;34m\u001b[0m\u001b[0m\n\u001b[1;32m      3\u001b[0m \u001b[0;32mwhile\u001b[0m \u001b[0;36m1\u001b[0m \u001b[0;34m:\u001b[0m\u001b[0;34m\u001b[0m\u001b[0;34m\u001b[0m\u001b[0m\n\u001b[0;32m----> 4\u001b[0;31m  \u001b[0mch\u001b[0m \u001b[0;34m=\u001b[0m \u001b[0minput\u001b[0m\u001b[0;34m(\u001b[0m\u001b[0;34m'Chọn'\u001b[0m \u001b[0;34m' image : '\u001b[0m\u001b[0;34m)\u001b[0m\u001b[0;34m\u001b[0m\u001b[0;34m\u001b[0m\u001b[0m\n\u001b[0m\u001b[1;32m      5\u001b[0m  \u001b[0;32mif\u001b[0m \u001b[0;34m(\u001b[0m\u001b[0mch\u001b[0m\u001b[0;34m==\u001b[0m\u001b[0;34m'-'\u001b[0m\u001b[0;34m)\u001b[0m\u001b[0;34m:\u001b[0m\u001b[0;34m\u001b[0m\u001b[0;34m\u001b[0m\u001b[0m\n\u001b[1;32m      6\u001b[0m      \u001b[0;32mbreak\u001b[0m\u001b[0;34m\u001b[0m\u001b[0;34m\u001b[0m\u001b[0m\n",
            "\u001b[0;32m/usr/local/lib/python3.9/dist-packages/ipykernel/kernelbase.py\u001b[0m in \u001b[0;36mraw_input\u001b[0;34m(self, prompt)\u001b[0m\n\u001b[1;32m    849\u001b[0m                 \u001b[0;34m\"raw_input was called, but this frontend does not support input requests.\"\u001b[0m\u001b[0;34m\u001b[0m\u001b[0;34m\u001b[0m\u001b[0m\n\u001b[1;32m    850\u001b[0m             )\n\u001b[0;32m--> 851\u001b[0;31m         return self._input_request(str(prompt),\n\u001b[0m\u001b[1;32m    852\u001b[0m             \u001b[0mself\u001b[0m\u001b[0;34m.\u001b[0m\u001b[0m_parent_ident\u001b[0m\u001b[0;34m,\u001b[0m\u001b[0;34m\u001b[0m\u001b[0;34m\u001b[0m\u001b[0m\n\u001b[1;32m    853\u001b[0m             \u001b[0mself\u001b[0m\u001b[0;34m.\u001b[0m\u001b[0m_parent_header\u001b[0m\u001b[0;34m,\u001b[0m\u001b[0;34m\u001b[0m\u001b[0;34m\u001b[0m\u001b[0m\n",
            "\u001b[0;32m/usr/local/lib/python3.9/dist-packages/ipykernel/kernelbase.py\u001b[0m in \u001b[0;36m_input_request\u001b[0;34m(self, prompt, ident, parent, password)\u001b[0m\n\u001b[1;32m    893\u001b[0m             \u001b[0;32mexcept\u001b[0m \u001b[0mKeyboardInterrupt\u001b[0m\u001b[0;34m:\u001b[0m\u001b[0;34m\u001b[0m\u001b[0;34m\u001b[0m\u001b[0m\n\u001b[1;32m    894\u001b[0m                 \u001b[0;31m# re-raise KeyboardInterrupt, to truncate traceback\u001b[0m\u001b[0;34m\u001b[0m\u001b[0;34m\u001b[0m\u001b[0m\n\u001b[0;32m--> 895\u001b[0;31m                 \u001b[0;32mraise\u001b[0m \u001b[0mKeyboardInterrupt\u001b[0m\u001b[0;34m(\u001b[0m\u001b[0;34m\"Interrupted by user\"\u001b[0m\u001b[0;34m)\u001b[0m \u001b[0;32mfrom\u001b[0m \u001b[0;32mNone\u001b[0m\u001b[0;34m\u001b[0m\u001b[0;34m\u001b[0m\u001b[0m\n\u001b[0m\u001b[1;32m    896\u001b[0m             \u001b[0;32mexcept\u001b[0m \u001b[0mException\u001b[0m \u001b[0;32mas\u001b[0m \u001b[0me\u001b[0m\u001b[0;34m:\u001b[0m\u001b[0;34m\u001b[0m\u001b[0;34m\u001b[0m\u001b[0m\n\u001b[1;32m    897\u001b[0m                 \u001b[0mself\u001b[0m\u001b[0;34m.\u001b[0m\u001b[0mlog\u001b[0m\u001b[0;34m.\u001b[0m\u001b[0mwarning\u001b[0m\u001b[0;34m(\u001b[0m\u001b[0;34m\"Invalid Message:\"\u001b[0m\u001b[0;34m,\u001b[0m \u001b[0mexc_info\u001b[0m\u001b[0;34m=\u001b[0m\u001b[0;32mTrue\u001b[0m\u001b[0;34m)\u001b[0m\u001b[0;34m\u001b[0m\u001b[0;34m\u001b[0m\u001b[0m\n",
            "\u001b[0;31mKeyboardInterrupt\u001b[0m: Interrupted by user"
          ]
        },
        {
          "output_type": "display_data",
          "data": {
            "text/plain": [
              "<Figure size 640x480 with 1 Axes>"
            ],
            "image/png": "[encoded data removed]"
          },
          "metadata": {}
        }
      ],
      "source": [
        "import numpy as np\n",
        "from keras.preprocessing import image\n",
        "while 1 :\n",
        " ch = input('Chọn' ' image : ')\n",
        " if (ch=='-'):\n",
        "     break\n",
        " else:\n",
        "   try: \n",
        "     test_image = load_img(\"/content/drive/MyDrive/AI/Name_class/Valid/{}.jpg\".format(ch),\n",
        "                             target_size=(30,40)) #Scale\n",
        "     test_image = img_to_array(test_image)\n",
        "     plt.imshow(test_image/255)\n",
        "     test_image = np.expand_dims(test_image,axis=0)\n",
        "     result = model.predict(test_image)\n",
        "     training_set.class_indices\n",
        "     print(result)\n",
        "     x=0\n",
        "     c=0\n",
        "     i=0\n",
        "     while (i<10):\n",
        "       if result[0][i]>=x:\n",
        "         x=result[0][i]\n",
        "         c=i\n",
        "        \n",
        "       i=i+1\n",
        "     if (x==0 and c==9) :\n",
        "         c=10\n",
        "     if c == 0:\n",
        "       prediction = 'CPhi'\n",
        "     elif c == 1:\n",
        "       prediction = 'Chi'\n",
        "     elif c == 2:\n",
        "       prediction = 'Chuong'\n",
        "     elif c == 3:\n",
        "       prediction = 'NHuy'\n",
        "     elif c == 4:\n",
        "       prediction = 'Phong'\n",
        "     elif c==5:\n",
        "       prediction ='Thang'\n",
        "     elif c == 6:\n",
        "       prediction = 'Tri'\n",
        "     elif c == 7:\n",
        "       prediction = 'Tu'\n",
        "     elif c == 8:\n",
        "       prediction = 'Tuan'\n",
        "     elif c==9:\n",
        "       prediction ='VBinh'\n",
        "           \n",
        "     print(prediction)\n",
        "   except:\n",
        "      print('Tên của hình ảnh không tồn tại '  )\n",
        "\n"
      ]
    },
    {
      "cell_type": "code",
      "source": [
        "training_set.class_indices"
      ],
      "metadata": {
        "colab": {
          "base_uri": "https://localhost:8080/"
        },
        "id": "w1Tlr4o8TqJz",
        "outputId": "0f996359-901a-46b3-f5aa-ca2355c1a7c7"
      },
      "execution_count": null,
      "outputs": [
        {
          "output_type": "execute_result",
          "data": {
            "text/plain": [
              "{'CPhi': 0,\n",
              " 'Chi': 1,\n",
              " 'Chuong': 2,\n",
              " 'NHuy': 3,\n",
              " 'Phong': 4,\n",
              " 'Thang': 5,\n",
              " 'Tri': 6,\n",
              " 'Tu': 7,\n",
              " 'Tuan': 8,\n",
              " 'VBinh': 9}"
            ]
          },
          "metadata": {},
          "execution_count": 91
        }
      ]
    }
  ],
  "metadata": {
    "colab": {
      "provenance": [],
      "mount_file_id": "1aGkA2lMfrlqWmGgjazbCpq6Zxv_2iD3Q",
      "authorship_tag": "ABX9TyNg0TBQoPx3WUhplSZui8Xn",
      "include_colab_link": true
    },
    "gpuClass": "standard",
    "kernelspec": {
      "display_name": "Python 3",
      "name": "python3"
    },
    "language_info": {
      "name": "python"
    },
    "accelerator": "GPU"
  },
  "nbformat": 4,
  "nbformat_minor": 0
}